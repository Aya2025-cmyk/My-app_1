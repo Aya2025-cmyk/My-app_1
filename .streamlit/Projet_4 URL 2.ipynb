{
 "cells": [
  {
   "cell_type": "code",
   "execution_count": 2,
   "id": "4bdeb8d1-f9aa-4c97-a433-3b96e97097c5",
   "metadata": {},
   "outputs": [],
   "source": [
    "#importer les packages\n",
    "import pandas as pd\n",
    "from requests import get #recupérer le code html de la page\n",
    "from bs4 import BeautifulSoup as bs # permet de stocker le code html dans un bs"
   ]
  },
  {
   "cell_type": "code",
   "execution_count": 3,
   "id": "6e20f5f0-1d60-4582-8d60-0f725b16fa7b",
   "metadata": {},
   "outputs": [
    {
     "data": {
      "text/plain": [
       "84"
      ]
     },
     "execution_count": 3,
     "metadata": {},
     "output_type": "execute_result"
    }
   ],
   "source": [
    "url= 'https://sn.coinafrique.com/categorie/chaussures-enfants'\n",
    "res= get(url)#recupérer le code html de la page\n",
    "soup= bs(res.text, 'html.parser')\n",
    "Paquets= soup.find_all('div', class_=\"col s6 m4 l3\")\n",
    "len(Paquets)"
   ]
  },
  {
   "cell_type": "code",
   "execution_count": 15,
   "id": "8ab4f4dc-bbd4-462a-8574-2a059298c7e6",
   "metadata": {},
   "outputs": [
    {
     "name": "stdout",
     "output_type": "stream",
     "text": [
      "Ballerines enfants --- 12 000 --- Dakar, Sénégal --- https://images.coinafrique.com/thumb_5141832_uploaded_image1_1737242187.jpg\n"
     ]
    }
   ],
   "source": [
    "#Recuperer le premier paquets \n",
    "Paquet=Paquets[0]\n",
    "Type_chaussures=Paquet.find(\"p\", class_=\"ad__card-description\").text.strip()\n",
    "Prix=Paquet.find(\"p\",class_=\"ad__card-price\").text.strip().replace(\"CFA\", \"\")\n",
    "Adresse=Paquet.find(\"p\", class_=\"ad__card-location\").text.replace(\"location_on\", \"\")\n",
    "Image_lien=Paquet.find(\"img\", class_=\"ad__card-img\")[\"src\"]\n",
    "print(Type_chaussures,\"---\",Prix,\"---\",Adresse,\"---\",Image_lien)"
   ]
  },
  {
   "cell_type": "code",
   "execution_count": 22,
   "id": "e3864b67-ab6c-47e5-a82e-c41e5cbae588",
   "metadata": {},
   "outputs": [],
   "source": [
    "#generaliser pour les autres paquets\n",
    "data= []\n",
    "for Paquet in Paquets:\n",
    "    try :\n",
    "        \n",
    "        Type_chaussures=Paquet.find(\"p\", class_=\"ad__card-description\").text.strip()\n",
    "        Prix=Paquet.find(\"p\",class_=\"ad__card-price\").text.strip().replace(\"CFA\", \"\")\n",
    "        Adresse=Paquet.find(\"p\", class_=\"ad__card-location\").text.replace(\"location_on\", \"\")\n",
    "        Image_lien=Paquet.find(\"img\", class_=\"ad__card-img\")[\"src\"]\n",
    "        dic= {\n",
    "            \"Type chaussure\":Type_chaussures,\n",
    "            \"Prix\": Prix,\n",
    "            \"Adresse\": Adresse,\n",
    "            \"Image lien\":Image_lien,\n",
    "        }\n",
    "        data.append(dic)\n",
    "    except :\n",
    "          pass\n",
    "DF1=pd.DataFrame(data)\n",
    "          "
   ]
  },
  {
   "cell_type": "code",
   "execution_count": 23,
   "id": "1ef5e420-1208-4dea-b924-5ccb6a3f0f8f",
   "metadata": {},
   "outputs": [
    {
     "data": {
      "text/html": [
       "<div>\n",
       "<style scoped>\n",
       "    .dataframe tbody tr th:only-of-type {\n",
       "        vertical-align: middle;\n",
       "    }\n",
       "\n",
       "    .dataframe tbody tr th {\n",
       "        vertical-align: top;\n",
       "    }\n",
       "\n",
       "    .dataframe thead th {\n",
       "        text-align: right;\n",
       "    }\n",
       "</style>\n",
       "<table border=\"1\" class=\"dataframe\">\n",
       "  <thead>\n",
       "    <tr style=\"text-align: right;\">\n",
       "      <th></th>\n",
       "      <th>Type chaussure</th>\n",
       "      <th>Prix</th>\n",
       "      <th>Adresse</th>\n",
       "      <th>Image lien</th>\n",
       "    </tr>\n",
       "  </thead>\n",
       "  <tbody>\n",
       "    <tr>\n",
       "      <th>0</th>\n",
       "      <td>Ballerines enfants</td>\n",
       "      <td>12 000</td>\n",
       "      <td>Dakar, Sénégal</td>\n",
       "      <td>https://images.coinafrique.com/thumb_5141832_u...</td>\n",
       "    </tr>\n",
       "    <tr>\n",
       "      <th>1</th>\n",
       "      <td>Chaussures enfants</td>\n",
       "      <td>2 000</td>\n",
       "      <td>Dakar Plateau, Dakar, Sénégal</td>\n",
       "      <td>https://images.coinafrique.com/thumb_5125946_u...</td>\n",
       "    </tr>\n",
       "    <tr>\n",
       "      <th>2</th>\n",
       "      <td>Baskets enfant</td>\n",
       "      <td>3 500</td>\n",
       "      <td>Parcelle Assainies, Dakar, Sénégal</td>\n",
       "      <td>https://images.coinafrique.com/thumb_5080430_u...</td>\n",
       "    </tr>\n",
       "    <tr>\n",
       "      <th>3</th>\n",
       "      <td>Basket</td>\n",
       "      <td>5 000</td>\n",
       "      <td>Parcelle Assainies, Dakar, Sénégal</td>\n",
       "      <td>https://images.coinafrique.com/thumb_5080428_u...</td>\n",
       "    </tr>\n",
       "    <tr>\n",
       "      <th>4</th>\n",
       "      <td>Claquettes</td>\n",
       "      <td>8 450</td>\n",
       "      <td>Fass, Dakar, Sénégal</td>\n",
       "      <td>https://images.coinafrique.com/thumb_5047806_u...</td>\n",
       "    </tr>\n",
       "    <tr>\n",
       "      <th>...</th>\n",
       "      <td>...</td>\n",
       "      <td>...</td>\n",
       "      <td>...</td>\n",
       "      <td>...</td>\n",
       "    </tr>\n",
       "    <tr>\n",
       "      <th>79</th>\n",
       "      <td>Chaussures enfants</td>\n",
       "      <td>Prix sur demande</td>\n",
       "      <td>HLM, Dakar, Sénégal</td>\n",
       "      <td>https://images.coinafrique.com/thumb_4165637_u...</td>\n",
       "    </tr>\n",
       "    <tr>\n",
       "      <th>80</th>\n",
       "      <td>Chaussures enfants</td>\n",
       "      <td>Prix sur demande</td>\n",
       "      <td>HLM, Dakar, Sénégal</td>\n",
       "      <td>https://images.coinafrique.com/thumb_4165645_u...</td>\n",
       "    </tr>\n",
       "    <tr>\n",
       "      <th>81</th>\n",
       "      <td>Chaussures enfants</td>\n",
       "      <td>Prix sur demande</td>\n",
       "      <td>HLM, Dakar, Sénégal</td>\n",
       "      <td>https://images.coinafrique.com/thumb_4165635_u...</td>\n",
       "    </tr>\n",
       "    <tr>\n",
       "      <th>82</th>\n",
       "      <td>Chaussures enfants</td>\n",
       "      <td>Prix sur demande</td>\n",
       "      <td>HLM, Dakar, Sénégal</td>\n",
       "      <td>https://images.coinafrique.com/thumb_4165634_u...</td>\n",
       "    </tr>\n",
       "    <tr>\n",
       "      <th>83</th>\n",
       "      <td>Chaussures bébé</td>\n",
       "      <td>2 000</td>\n",
       "      <td>HLM, Dakar, Sénégal</td>\n",
       "      <td>https://images.coinafrique.com/thumb_4187241_u...</td>\n",
       "    </tr>\n",
       "  </tbody>\n",
       "</table>\n",
       "<p>84 rows × 4 columns</p>\n",
       "</div>"
      ],
      "text/plain": [
       "        Type chaussure              Prix                             Adresse  \\\n",
       "0   Ballerines enfants            12 000                      Dakar, Sénégal   \n",
       "1   Chaussures enfants             2 000       Dakar Plateau, Dakar, Sénégal   \n",
       "2       Baskets enfant             3 500  Parcelle Assainies, Dakar, Sénégal   \n",
       "3               Basket             5 000  Parcelle Assainies, Dakar, Sénégal   \n",
       "4           Claquettes             8 450                Fass, Dakar, Sénégal   \n",
       "..                 ...               ...                                 ...   \n",
       "79  Chaussures enfants  Prix sur demande                 HLM, Dakar, Sénégal   \n",
       "80  Chaussures enfants  Prix sur demande                 HLM, Dakar, Sénégal   \n",
       "81  Chaussures enfants  Prix sur demande                 HLM, Dakar, Sénégal   \n",
       "82  Chaussures enfants  Prix sur demande                 HLM, Dakar, Sénégal   \n",
       "83     Chaussures bébé             2 000                 HLM, Dakar, Sénégal   \n",
       "\n",
       "                                           Image lien  \n",
       "0   https://images.coinafrique.com/thumb_5141832_u...  \n",
       "1   https://images.coinafrique.com/thumb_5125946_u...  \n",
       "2   https://images.coinafrique.com/thumb_5080430_u...  \n",
       "3   https://images.coinafrique.com/thumb_5080428_u...  \n",
       "4   https://images.coinafrique.com/thumb_5047806_u...  \n",
       "..                                                ...  \n",
       "79  https://images.coinafrique.com/thumb_4165637_u...  \n",
       "80  https://images.coinafrique.com/thumb_4165645_u...  \n",
       "81  https://images.coinafrique.com/thumb_4165635_u...  \n",
       "82  https://images.coinafrique.com/thumb_4165634_u...  \n",
       "83  https://images.coinafrique.com/thumb_4187241_u...  \n",
       "\n",
       "[84 rows x 4 columns]"
      ]
     },
     "execution_count": 23,
     "metadata": {},
     "output_type": "execute_result"
    }
   ],
   "source": [
    "#afficher DF1\n",
    "DF1"
   ]
  },
  {
   "cell_type": "code",
   "execution_count": 24,
   "id": "e0066a84-4334-4e93-8f02-3ff91d4fa333",
   "metadata": {},
   "outputs": [],
   "source": [
    "#Scarper pour les autres pages\n",
    "DF2=pd.DataFrame(data)\n",
    "for p_index in range(1,21):\n",
    "    url= f'https://sn.coinafrique.com/categorie/chaussures-enfants?page={p_index}'\n",
    "    res= get(url)\n",
    "    soup= bs(res.text, 'html.parser')\n",
    "    Paquets= soup.find_all('div', class_=\"col s6 m4 l3\")\n",
    "for Paquet in Paquets:\n",
    "    try :\n",
    "        \n",
    "        Type_chaussures=Paquet.find(\"p\", class_=\"ad__card-description\").text.strip()\n",
    "        Prix=Paquet.find(\"p\",class_=\"ad__card-price\").text.strip().replace(\"CFA\", \"\")\n",
    "        Adresse=Paquet.find(\"p\", class_=\"ad__card-location\").text.replace(\"location_on\", \"\")\n",
    "        Image_lien=Paquet.find(\"img\", class_=\"ad__card-img\")[\"src\"]\n",
    "        dic= {\n",
    "            \"Type chaussure\":Type_chaussures,\n",
    "            \"Prix\": Prix,\n",
    "            \"Adresse\": Adresse,\n",
    "            \"Image lien\":Image_lien,\n",
    "        }\n",
    "        data.append(dic)\n",
    "    except :\n",
    "          pass\n",
    "DF1=pd.DataFrame(data)\n",
    "DF3= pd.concat([DF2,DF1], axis=0).reset_index(drop=True)        "
   ]
  },
  {
   "cell_type": "code",
   "execution_count": 26,
   "id": "bd1abb0c-8c96-4884-bd50-3257606c47fd",
   "metadata": {},
   "outputs": [
    {
     "data": {
      "text/plain": [
       "(168, 4)"
      ]
     },
     "execution_count": 26,
     "metadata": {},
     "output_type": "execute_result"
    }
   ],
   "source": [
    "#Afficher df3\n",
    "DF3.shape"
   ]
  },
  {
   "cell_type": "code",
   "execution_count": null,
   "id": "fc1c062e-43bb-469e-8667-604c14c8d302",
   "metadata": {},
   "outputs": [],
   "source": []
  }
 ],
 "metadata": {
  "kernelspec": {
   "display_name": "Python 3 (ipykernel)",
   "language": "python",
   "name": "python3"
  },
  "language_info": {
   "codemirror_mode": {
    "name": "ipython",
    "version": 3
   },
   "file_extension": ".py",
   "mimetype": "text/x-python",
   "name": "python",
   "nbconvert_exporter": "python",
   "pygments_lexer": "ipython3",
   "version": "3.13.1"
  }
 },
 "nbformat": 4,
 "nbformat_minor": 5
}
