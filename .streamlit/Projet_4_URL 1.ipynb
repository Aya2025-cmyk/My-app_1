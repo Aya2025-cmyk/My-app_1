{
 "cells": [
  {
   "cell_type": "code",
   "execution_count": 119,
   "id": "15e28d8e-281c-4d90-a212-4676e2fa651e",
   "metadata": {},
   "outputs": [
    {
     "name": "stdout",
     "output_type": "stream",
     "text": [
      "Requirement already satisfied: beautifulsoup4 in c:\\users\\user\\appdata\\local\\programs\\python\\python313\\lib\\site-packages (4.12.3)\n",
      "Requirement already satisfied: soupsieve>1.2 in c:\\users\\user\\appdata\\local\\programs\\python\\python313\\lib\\site-packages (from beautifulsoup4) (2.6)\n"
     ]
    },
    {
     "name": "stderr",
     "output_type": "stream",
     "text": [
      "\n",
      "[notice] A new release of pip is available: 24.3.1 -> 25.0\n",
      "[notice] To update, run: python.exe -m pip install --upgrade pip\n"
     ]
    }
   ],
   "source": [
    "!pip install beautifulsoup4"
   ]
  },
  {
   "cell_type": "code",
   "execution_count": 120,
   "id": "a0c56cc0-3a5c-4118-b453-d89ce9973eae",
   "metadata": {},
   "outputs": [],
   "source": [
    "#importer les packages\n",
    "import pandas as pd\n",
    "from requests import get #recupérer le code html de la page\n",
    "from bs4 import BeautifulSoup as bs # permet de stocker le code html dans un bs"
   ]
  },
  {
   "cell_type": "code",
   "execution_count": 137,
   "id": "93b37f59-69ae-4aac-916a-73c98573308c",
   "metadata": {},
   "outputs": [
    {
     "data": {
      "text/plain": [
       "84"
      ]
     },
     "execution_count": 137,
     "metadata": {},
     "output_type": "execute_result"
    }
   ],
   "source": [
    "url= 'https://sn.coinafrique.com/categorie/vetements-enfants'\n",
    "res= get(url)#recupérer le code html de la page\n",
    "soup= bs(res.text, 'html.parser')\n",
    "containers= soup.find_all('div', class_=\"col s6 m4 l3\")\n",
    "len(containers)"
   ]
  },
  {
   "cell_type": "code",
   "execution_count": 149,
   "id": "7a4d5c92-fafa-4d31-b9d8-781cba496cd9",
   "metadata": {},
   "outputs": [
    {
     "name": "stdout",
     "output_type": "stream",
     "text": [
      "Blouson enfant --- 16 000 --- Médina, Dakar, Sénégal --- https://images.coinafrique.com/thumb_915850_uploaded_image1_1567763636.38.png\n"
     ]
    }
   ],
   "source": [
    "#recuper le premiers contenaires\n",
    "container=containers[0]\n",
    "type_habits=container.find(\"p\", class_=\"ad__card-description\").text.strip()\n",
    "Prix=container.find(\"p\", class_=\"ad__card-price\").text.strip().replace(\"CFA\", \"\" )\n",
    "Adresse=container.find(\"p\", class_=\"ad__card-location\").text.strip().replace(\"location_on\", \"\")\n",
    "Image_lien=container.find(\"img\",class_=\"ad__card-img\")[\"src\"]\n",
    "print(type_habits,\"---\",Prix, \"---\",Adresse, \"---\",Image_lien)"
   ]
  },
  {
   "cell_type": "code",
   "execution_count": 150,
   "id": "049dedcd-ad40-4a7e-9813-d120b4fe8dce",
   "metadata": {},
   "outputs": [],
   "source": [
    "#Generaliser pour les autres containers\n",
    "donne = []\n",
    "for container in containers :\n",
    "    try :\n",
    "         type_habits=container.find(\"p\", class_=\"ad__card-description\").text.strip()\n",
    "         Prix=container.find(\"p\", class_=\"ad__card-price\").text.strip().replace(\"CFA\", \"\" )\n",
    "         Adresse=container.find(\"p\", class_=\"ad__card-location\").text.strip().replace(\"location_on\", \"\")\n",
    "         Img_link=container.find(\"img\",class_=\"ad__card-img\")[\"src\"]\n",
    "        \n",
    "         dic = {\n",
    "                \"Type habits\": type_habits,\n",
    "                \"Prix\": Prix,\n",
    "                \"Adresse\": Adresse,\n",
    "                \"Image_lien\": Image_lien,   \n",
    "            }\n",
    "         donne.append(dic)\n",
    "    except :\n",
    "           pass\n",
    "Df=pd.DataFrame(donne)"
   ]
  },
  {
   "cell_type": "code",
   "execution_count": 151,
   "id": "75be25fd-e5b1-4ec0-bde8-260b8597c04e",
   "metadata": {},
   "outputs": [
    {
     "data": {
      "text/html": [
       "<div>\n",
       "<style scoped>\n",
       "    .dataframe tbody tr th:only-of-type {\n",
       "        vertical-align: middle;\n",
       "    }\n",
       "\n",
       "    .dataframe tbody tr th {\n",
       "        vertical-align: top;\n",
       "    }\n",
       "\n",
       "    .dataframe thead th {\n",
       "        text-align: right;\n",
       "    }\n",
       "</style>\n",
       "<table border=\"1\" class=\"dataframe\">\n",
       "  <thead>\n",
       "    <tr style=\"text-align: right;\">\n",
       "      <th></th>\n",
       "      <th>Type habits</th>\n",
       "      <th>Prix</th>\n",
       "      <th>Adresse</th>\n",
       "      <th>Image_lien</th>\n",
       "    </tr>\n",
       "  </thead>\n",
       "  <tbody>\n",
       "    <tr>\n",
       "      <th>0</th>\n",
       "      <td>Blouson enfant</td>\n",
       "      <td>16 000</td>\n",
       "      <td>Médina, Dakar, Sénégal</td>\n",
       "      <td>https://images.coinafrique.com/thumb_915850_up...</td>\n",
       "    </tr>\n",
       "    <tr>\n",
       "      <th>1</th>\n",
       "      <td>Vêtements enfant</td>\n",
       "      <td>Prix sur demande</td>\n",
       "      <td>Dakar, Sénégal</td>\n",
       "      <td>https://images.coinafrique.com/thumb_915850_up...</td>\n",
       "    </tr>\n",
       "    <tr>\n",
       "      <th>2</th>\n",
       "      <td>Langes bébé</td>\n",
       "      <td>7 000</td>\n",
       "      <td>Patte d'Oie, Dakar, Sénégal</td>\n",
       "      <td>https://images.coinafrique.com/thumb_915850_up...</td>\n",
       "    </tr>\n",
       "    <tr>\n",
       "      <th>3</th>\n",
       "      <td>Gigoteuse</td>\n",
       "      <td>10 000</td>\n",
       "      <td>Sénégal</td>\n",
       "      <td>https://images.coinafrique.com/thumb_915850_up...</td>\n",
       "    </tr>\n",
       "    <tr>\n",
       "      <th>4</th>\n",
       "      <td>Blouson enfant</td>\n",
       "      <td>Prix sur demande</td>\n",
       "      <td>Médina, Dakar, Sénégal</td>\n",
       "      <td>https://images.coinafrique.com/thumb_915850_up...</td>\n",
       "    </tr>\n",
       "    <tr>\n",
       "      <th>...</th>\n",
       "      <td>...</td>\n",
       "      <td>...</td>\n",
       "      <td>...</td>\n",
       "      <td>...</td>\n",
       "    </tr>\n",
       "    <tr>\n",
       "      <th>79</th>\n",
       "      <td>Vêtements enfants</td>\n",
       "      <td>Prix sur demande</td>\n",
       "      <td>Les Parcelles Assainies, Dakar, Sénégal</td>\n",
       "      <td>https://images.coinafrique.com/thumb_915850_up...</td>\n",
       "    </tr>\n",
       "    <tr>\n",
       "      <th>80</th>\n",
       "      <td>Robe avec sacoche</td>\n",
       "      <td>10 000</td>\n",
       "      <td>Dakar Plateau, Dakar, Sénégal</td>\n",
       "      <td>https://images.coinafrique.com/thumb_915850_up...</td>\n",
       "    </tr>\n",
       "    <tr>\n",
       "      <th>81</th>\n",
       "      <td>Ensemble chic pour bébé</td>\n",
       "      <td>10 000</td>\n",
       "      <td>Ouakam, Dakar, Sénégal</td>\n",
       "      <td>https://images.coinafrique.com/thumb_915850_up...</td>\n",
       "    </tr>\n",
       "    <tr>\n",
       "      <th>82</th>\n",
       "      <td>Ensemble fille</td>\n",
       "      <td>8 000</td>\n",
       "      <td>Dakar Plateau, Dakar, Sénégal</td>\n",
       "      <td>https://images.coinafrique.com/thumb_915850_up...</td>\n",
       "    </tr>\n",
       "    <tr>\n",
       "      <th>83</th>\n",
       "      <td>Robe avec petite traîne</td>\n",
       "      <td>12 000</td>\n",
       "      <td>Ouakam, Dakar, Sénégal</td>\n",
       "      <td>https://images.coinafrique.com/thumb_915850_up...</td>\n",
       "    </tr>\n",
       "  </tbody>\n",
       "</table>\n",
       "<p>84 rows × 4 columns</p>\n",
       "</div>"
      ],
      "text/plain": [
       "                Type habits              Prix  \\\n",
       "0            Blouson enfant            16 000   \n",
       "1          Vêtements enfant  Prix sur demande   \n",
       "2               Langes bébé             7 000   \n",
       "3                 Gigoteuse            10 000   \n",
       "4            Blouson enfant  Prix sur demande   \n",
       "..                      ...               ...   \n",
       "79        Vêtements enfants  Prix sur demande   \n",
       "80        Robe avec sacoche            10 000   \n",
       "81  Ensemble chic pour bébé            10 000   \n",
       "82           Ensemble fille             8 000   \n",
       "83  Robe avec petite traîne            12 000   \n",
       "\n",
       "                                    Adresse  \\\n",
       "0                    Médina, Dakar, Sénégal   \n",
       "1                            Dakar, Sénégal   \n",
       "2               Patte d'Oie, Dakar, Sénégal   \n",
       "3                                   Sénégal   \n",
       "4                    Médina, Dakar, Sénégal   \n",
       "..                                      ...   \n",
       "79  Les Parcelles Assainies, Dakar, Sénégal   \n",
       "80            Dakar Plateau, Dakar, Sénégal   \n",
       "81                   Ouakam, Dakar, Sénégal   \n",
       "82            Dakar Plateau, Dakar, Sénégal   \n",
       "83                   Ouakam, Dakar, Sénégal   \n",
       "\n",
       "                                           Image_lien  \n",
       "0   https://images.coinafrique.com/thumb_915850_up...  \n",
       "1   https://images.coinafrique.com/thumb_915850_up...  \n",
       "2   https://images.coinafrique.com/thumb_915850_up...  \n",
       "3   https://images.coinafrique.com/thumb_915850_up...  \n",
       "4   https://images.coinafrique.com/thumb_915850_up...  \n",
       "..                                                ...  \n",
       "79  https://images.coinafrique.com/thumb_915850_up...  \n",
       "80  https://images.coinafrique.com/thumb_915850_up...  \n",
       "81  https://images.coinafrique.com/thumb_915850_up...  \n",
       "82  https://images.coinafrique.com/thumb_915850_up...  \n",
       "83  https://images.coinafrique.com/thumb_915850_up...  \n",
       "\n",
       "[84 rows x 4 columns]"
      ]
     },
     "execution_count": 151,
     "metadata": {},
     "output_type": "execute_result"
    }
   ],
   "source": [
    "#Afficher le dataframe\n",
    "Df"
   ]
  },
  {
   "cell_type": "code",
   "execution_count": 142,
   "id": "ba7cabaa-9566-4f3d-b10a-f2d36924962b",
   "metadata": {},
   "outputs": [
    {
     "data": {
      "text/plain": [
       "(84, 4)"
      ]
     },
     "execution_count": 142,
     "metadata": {},
     "output_type": "execute_result"
    }
   ],
   "source": [
    "#Dimensions\n",
    "Df.shape"
   ]
  },
  {
   "cell_type": "code",
   "execution_count": 152,
   "id": "86d34001-aa88-498e-8c9e-e30fce6331b6",
   "metadata": {},
   "outputs": [],
   "source": [
    "#Scarper les données sur les autres pages\n",
    "DF=pd.DataFrame(donne)\n",
    "for index in range(1,21):\n",
    "    url= f'https://sn.coinafrique.com/categorie/vetements-enfants?page={index}'\n",
    "    res= get(url)\n",
    "    soup= bs(res.text, 'html.parser')\n",
    "    containers= soup.find_all('div', class_=\"col s6 m4 l3\")\n",
    "    donne = []\n",
    "for container in containers :\n",
    "    try :\n",
    "         type_habits=container.find(\"p\", class_=\"ad__card-description\").text.strip()\n",
    "         Prix=container.find(\"p\", class_=\"ad__card-price\").text.strip().replace(\"CFA\", \"\" )\n",
    "         Adresse=container.find(\"p\", class_=\"ad__card-location\").text.strip().replace(\"location_on\", \"\")\n",
    "         Image_lien=container.find(\"img\",class_=\"ad__card-img\")[\"src\"]\n",
    "        \n",
    "         dic = {\n",
    "                \"Type habits\": type_habits,\n",
    "                \"Prix\": Prix,\n",
    "                \"Adresse\": Adresse,\n",
    "                \"Image_lien\": Image_lien,   \n",
    "            }\n",
    "         donne.append(dic)\n",
    "    except :\n",
    "           pass\n",
    "Df=pd.DataFrame(donne)\n",
    "DF= pd.concat([DF,Df], axis=0).reset_index(drop=True)\n",
    "\n"
   ]
  },
  {
   "cell_type": "code",
   "execution_count": 154,
   "id": "77e1b319-602d-46d9-a731-e0064ab40084",
   "metadata": {},
   "outputs": [
    {
     "data": {
      "text/plain": [
       "(168, 4)"
      ]
     },
     "execution_count": 154,
     "metadata": {},
     "output_type": "execute_result"
    }
   ],
   "source": [
    "#Afficher df\n",
    "DF.shape"
   ]
  },
  {
   "cell_type": "code",
   "execution_count": null,
   "id": "67659847-f831-4ec5-a6e6-5bdf74fee15b",
   "metadata": {},
   "outputs": [],
   "source": []
  },
  {
   "cell_type": "code",
   "execution_count": null,
   "id": "926f8f13-417d-4c3d-bf38-71beffac2892",
   "metadata": {},
   "outputs": [],
   "source": []
  },
  {
   "cell_type": "code",
   "execution_count": null,
   "id": "6bda2178-9643-4681-89aa-7f76c9e3c1c7",
   "metadata": {},
   "outputs": [],
   "source": []
  }
 ],
 "metadata": {
  "kernelspec": {
   "display_name": "Python 3 (ipykernel)",
   "language": "python",
   "name": "python3"
  },
  "language_info": {
   "codemirror_mode": {
    "name": "ipython",
    "version": 3
   },
   "file_extension": ".py",
   "mimetype": "text/x-python",
   "name": "python",
   "nbconvert_exporter": "python",
   "pygments_lexer": "ipython3",
   "version": "3.13.1"
  }
 },
 "nbformat": 4,
 "nbformat_minor": 5
}
